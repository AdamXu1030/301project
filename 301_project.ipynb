{
  "nbformat": 4,
  "nbformat_minor": 0,
  "metadata": {
    "colab": {
      "provenance": []
    },
    "kernelspec": {
      "name": "python3",
      "display_name": "Python 3"
    },
    "language_info": {
      "name": "python"
    },
    "accelerator": "GPU",
    "gpuClass": "premium"
  },
  "cells": [
    {
      "cell_type": "code",
      "execution_count": null,
      "metadata": {
        "colab": {
          "base_uri": "https://localhost:8080/"
        },
        "id": "4dkmi4ftf80O",
        "outputId": "5dbd6c82-78a8-4bf5-c829-527eba73ee25"
      },
      "outputs": [
        {
          "output_type": "stream",
          "name": "stdout",
          "text": [
            "Drive already mounted at /content/drive; to attempt to forcibly remount, call drive.mount(\"/content/drive\", force_remount=True).\n"
          ]
        }
      ],
      "source": [
        "from google.colab import drive\n",
        "drive.mount('/content/drive')"
      ]
    },
    {
      "cell_type": "code",
      "source": [
        "# Import Kaggle API key here\n",
        "#!echo '''''' > /root/.kaggle/kaggle.json\n",
        "!kaggle datasets download -d hasnainjaved/melanoma-skin-cancer-dataset-of-10000-images"
      ],
      "metadata": {
        "colab": {
          "base_uri": "https://localhost:8080/"
        },
        "id": "qeArxn4wI7wa",
        "outputId": "2d9db468-4616-43b1-fd4e-d56f8ebb5b30"
      },
      "execution_count": null,
      "outputs": [
        {
          "output_type": "stream",
          "name": "stdout",
          "text": [
            "Warning: Your Kaggle API key is readable by other users on this system! To fix this, you can run 'chmod 600 /root/.kaggle/kaggle.json'\n",
            "Downloading melanoma-skin-cancer-dataset-of-10000-images.zip to /content\n",
            " 97% 96.0M/98.7M [00:06<00:00, 16.8MB/s]\n",
            "100% 98.7M/98.7M [00:06<00:00, 15.2MB/s]\n"
          ]
        }
      ]
    },
    {
      "cell_type": "code",
      "source": [
        "!unzip -q melanoma-skin-cancer-dataset-of-10000-images.zip"
      ],
      "metadata": {
        "id": "FcL_ppijJGre"
      },
      "execution_count": null,
      "outputs": []
    },
    {
      "cell_type": "code",
      "source": [
        "import torch\n",
        "import torch.nn as nn\n",
        "import torch.optim as optim\n",
        "import torch.nn.functional as F\n",
        "import numpy as np\n",
        "import torchvision\n",
        "from torchvision import *\n",
        "from torch.utils.data import Dataset, DataLoader\n",
        "import torchvision.transforms as transforms\n",
        "import matplotlib.pyplot as plt\n",
        "from PIL import Image"
      ],
      "metadata": {
        "id": "yY8bxxYwgQGH"
      },
      "execution_count": null,
      "outputs": []
    },
    {
      "cell_type": "code",
      "source": [
        "# This is dataset format we used to fit different dataset.\n",
        "# Each image file name start with label: 0 or 1\n",
        "class MyDataset(Dataset):\n",
        "    def __init__(self, root_dir, transform=None):\n",
        "        self.file = os.listdir(root_dir)\n",
        "        self.root_dir = root_dir\n",
        "        self.transform = transform\n",
        "\n",
        "    def __len__(self):\n",
        "        return len(self.file)\n",
        "\n",
        "    def __getitem__(self, index):\n",
        "        img_name = os.path.join(self.root_dir, self.file[index])\n",
        "        label = int(img_name.split('/')[-1][0])\n",
        "        image = Image.open(img_name)\n",
        "        image = self.transform(image)\n",
        "        return image, label"
      ],
      "metadata": {
        "id": "HYT3y8Z0gXEf"
      },
      "execution_count": null,
      "outputs": []
    },
    {
      "cell_type": "code",
      "source": [
        "#!cd melanoma_cancer_dataset/test/benign && for i in `ls`; do mv -f $i `echo \"0_\"$i`; done\n",
        "#!cd melanoma_cancer_dataset/test/malignant && for i in `ls`; do mv -f $i `echo \"1_\"$i`; done"
      ],
      "metadata": {
        "id": "tYBDq8OGLKp2"
      },
      "execution_count": null,
      "outputs": []
    },
    {
      "cell_type": "code",
      "source": [
        "#!cd melanoma_cancer_dataset && cp test/malignant/* test_set && cp test/benign/* test_set"
      ],
      "metadata": {
        "id": "QV9NpLsFLv4o"
      },
      "execution_count": null,
      "outputs": []
    },
    {
      "cell_type": "code",
      "source": [
        "transform = transforms.Compose([\n",
        "    transforms.Resize(size=(256, 256)),\n",
        "    transforms.ToTensor(),\n",
        "    transforms.Normalize([0.5, 0.5, 0.5], [0.5, 0.5, 0.5])\n",
        "])"
      ],
      "metadata": {
        "id": "Q4J9DoAygZAh"
      },
      "execution_count": null,
      "outputs": []
    },
    {
      "cell_type": "code",
      "source": [
        "#!cp /content/drive/MyDrive/skin_cancer_data/train_set/* /content/drive/MyDrive/skin_cancer_data/dataset_all\n",
        "#!cp /content/drive/MyDrive/skin_cancer_data/test_set/* /content/drive/MyDrive/skin_cancer_data/dataset_all"
      ],
      "metadata": {
        "id": "dhQHUVnEPDah"
      },
      "execution_count": null,
      "outputs": []
    },
    {
      "cell_type": "code",
      "source": [
        "#train_set = MyDataset(root_dir='/content/drive/MyDrive/skin_cancer_data/train_set', transform=transform)\n",
        "#test_set = MyDataset(root_dir='/content/drive/MyDrive/skin_cancer_data/test_set', transform=transform)\n",
        "dataset = MyDataset(root_dir='/content/drive/MyDrive/skin_cancer_data/dataset_all', transform=transform)"
      ],
      "metadata": {
        "id": "GY-pkkdQgba6"
      },
      "execution_count": null,
      "outputs": []
    },
    {
      "cell_type": "code",
      "source": [
        "train_size = int(len(dataset) * 0.7)\n",
        "test_size = len(dataset) - train_size\n",
        "torch.random.seed()\n",
        "train_set, test_set = torch.utils.data.random_split(dataset, [train_size, test_size])\n",
        "BATCH_SIZE = 64\n",
        "train_loader = torch.utils.data.DataLoader(train_set, batch_size=BATCH_SIZE, shuffle=True)\n",
        "test_loader = torch.utils.data.DataLoader(test_set, batch_size=BATCH_SIZE, shuffle=True)"
      ],
      "metadata": {
        "id": "Z04inkz-gnWb"
      },
      "execution_count": null,
      "outputs": []
    },
    {
      "cell_type": "code",
      "source": [
        "print(len(train_set))"
      ],
      "metadata": {
        "colab": {
          "base_uri": "https://localhost:8080/"
        },
        "id": "lk6FhQs0Osfk",
        "outputId": "da4a04b5-b5fe-4dc6-b716-610793937348"
      },
      "execution_count": null,
      "outputs": [
        {
          "output_type": "stream",
          "name": "stdout",
          "text": [
            "1854\n"
          ]
        }
      ]
    },
    {
      "cell_type": "code",
      "source": [
        "print(len(test_set))"
      ],
      "metadata": {
        "colab": {
          "base_uri": "https://localhost:8080/"
        },
        "id": "yjmiA1UUOwkh",
        "outputId": "d63394f9-a2ad-408b-ba6c-4d9b32d09be6"
      },
      "execution_count": null,
      "outputs": [
        {
          "output_type": "stream",
          "name": "stdout",
          "text": [
            "796\n"
          ]
        }
      ]
    },
    {
      "cell_type": "code",
      "source": [
        "class CNN_Tokenizer(nn.Module):\n",
        "\n",
        "    def __init__(self, device, L):\n",
        "        super().__init__()\n",
        "\n",
        "        self.L = L\n",
        "\n",
        "        self.conv1 = nn.Conv2d(in_channels=3, out_channels=16, kernel_size=3)\n",
        "        self.mxp1 = nn.MaxPool2d(kernel_size=2, stride=2)\n",
        "\n",
        "        self.conv2 = nn.Conv2d(in_channels=16, out_channels=64, kernel_size=1)\n",
        "        self.mxp2 = nn.MaxPool2d(kernel_size=2, stride=2)\n",
        "\n",
        "        self.conv3 = nn.Conv2d(in_channels=64, out_channels=128, kernel_size=3)\n",
        "        self.mxp3 = nn.MaxPool2d(kernel_size=2, stride=2)\n",
        "\n",
        "        self.conv4 = nn.Conv2d(in_channels=128, out_channels=256, kernel_size=1)\n",
        "        self.mxp4 = nn.MaxPool2d(kernel_size=2, stride=2)\n",
        "\n",
        "        self.conv5 = nn.Conv2d(in_channels=256, out_channels=512, kernel_size=3)\n",
        "        self.mxp5 = nn.MaxPool2d(kernel_size=2, stride=2)\n",
        "\n",
        "        # The fully connected layers to get tokens\n",
        "        self.fc1 = nn.Linear(512, L, bias=False)\n",
        "\n",
        "    def forward(self, x):\n",
        "        x = self.conv1(x)\n",
        "        x = self.mxp1(x)\n",
        "        x = F.relu(x)\n",
        "\n",
        "        x = self.conv2(x)\n",
        "        #x = self.mxp2(x)\n",
        "        x = F.relu(x)\n",
        "\n",
        "        x = self.conv3(x)\n",
        "        x = self.mxp3(x)\n",
        "        x = F.relu(x)\n",
        "\n",
        "        x = self.conv4(x)\n",
        "        #x = self.mxp4(x)\n",
        "        x = F.relu(x)\n",
        "\n",
        "        x = self.conv5(x)\n",
        "        x = self.mxp5(x)\n",
        "        x = F.relu(x)  # x = [batch, C, heigth, width]\n",
        "\n",
        "        x = x.view(x.shape[0], x.shape[1], -1)  # x = [batch, C, heigth*width]\n",
        "\n",
        "        x1 = x.permute(0, 2, 1)  #[batch, H*W, C]\n",
        "        x2 = x.permute(0, 2, 1) \n",
        "\n",
        "        x1 = self.fc1(x1)  \n",
        "        x1 = x1.permute(0, 2, 1)  \n",
        "\n",
        "        x1 = F.softmax(x1, dim=-1)\n",
        "        t = torch.matmul(x1, x2) \n",
        "\n",
        "        return t, x"
      ],
      "metadata": {
        "id": "R05aO3YSgqaS"
      },
      "execution_count": null,
      "outputs": []
    },
    {
      "cell_type": "code",
      "source": [
        "class Recurrent_tokenizer(nn.Module):\n",
        "\n",
        "    def __init__(self, device, l, c):\n",
        "        super().__init__()\n",
        "        self.device = device\n",
        "        self.token2wt = nn.Linear(c, c, bias=False)\n",
        "\n",
        "    def forward(self, x, token):\n",
        "        # token = [batch, L, C]\n",
        "        # X = [batch, C, H*W]\n",
        "\n",
        "        Wr = self.token2wt(token)  #Wr = [batch, L, C]\n",
        "        Wr = Wr.permute(0, 2, 1)  #Wr = [batch, C, L]\n",
        "\n",
        "        x = x.permute(0, 2, 1)  #x = [batch, H*W, C]\n",
        "\n",
        "        a = torch.matmul(x, Wr)  #a = [batch, H*W, C] x [batch, C, L] = [batch, H*W, L]\n",
        "        a = a.permute(0, 2, 1)  #a = [batch, L, H*W]\n",
        "        a = F.softmax(a, dim=-1)\n",
        "\n",
        "        t = torch.matmul(a, x)  #t = [batch, L, H*W] x  [batch, H*W, C] = [batch, L, C]\n",
        "\n",
        "        return t"
      ],
      "metadata": {
        "id": "cdFFFHongtbL"
      },
      "execution_count": null,
      "outputs": []
    },
    {
      "cell_type": "code",
      "source": [
        "class Transformer(nn.Module):\n",
        "\n",
        "    def __init__(self, l, c):\n",
        "        super().__init__()\n",
        "\n",
        "        self.token2Q = nn.Linear(c, c, bias=False)\n",
        "        self.token2K = nn.Linear(c, c, bias=False)\n",
        "\n",
        "        self.F1 = nn.Conv1d(in_channels=c, out_channels=c, kernel_size=1)\n",
        "        self.F2 = nn.Conv1d(in_channels=c, out_channels=c, kernel_size=1)\n",
        "\n",
        "    def forward(self, token):\n",
        "        # getting the key and query weights\n",
        "        Tk = self.token2K(token)\n",
        "        Tq = self.token2Q(token)\n",
        "        Tq = Tq.permute(0, 2, 1)\n",
        "\n",
        "        a = torch.matmul(Tk, Tq)\n",
        "        a = F.softmax(a, dim=-1)\n",
        "        a = torch.matmul(a, token)\n",
        "\n",
        "        T = token + a  #T = [batch, l, c]\n",
        "        T = T.permute(0, 2, 1)\n",
        "\n",
        "        T1 = self.F1(T)\n",
        "        T1 = F.relu(T1)\n",
        "        T1 = self.F2(T1)\n",
        "        T1 = T1 + T  #T1 = [batch, l, c]\n",
        "        T1 = T1.permute(0, 2, 1)  #T1 = [batch, c, l]\n",
        "\n",
        "        return T1"
      ],
      "metadata": {
        "id": "EPwbc6_8gwQE"
      },
      "execution_count": null,
      "outputs": []
    },
    {
      "cell_type": "code",
      "source": [
        "class Classifier(nn.Module):\n",
        "\n",
        "    def __init__(self, l, c):\n",
        "        super().__init__()\n",
        "        self.c = c\n",
        "        self.l = l\n",
        "\n",
        "        self.avgPool = nn.AvgPool1d(kernel_size=3, stride=1)\n",
        "        self.fc1 = nn.Linear((l - 2) * c, 512)\n",
        "        self.fc2 = nn.Linear(512, 2)\n",
        "\n",
        "    def forward(self, x):\n",
        "\n",
        "        x = x.permute(0, 2, 1)  # x = [batch, c, l]\n",
        "        x = self.avgPool(x)\n",
        "\n",
        "        x = x.permute(0, 2, 1)\n",
        "        x = x.reshape(x.shape[0], -1)  # x = [batch, c*l]\n",
        "\n",
        "        x = self.fc1(x)\n",
        "        x = F.relu(x)\n",
        "        x = self.fc2(x)\n",
        "\n",
        "        return x"
      ],
      "metadata": {
        "id": "JF3c8ea9gxlo"
      },
      "execution_count": null,
      "outputs": []
    },
    {
      "cell_type": "code",
      "source": [
        "transformer = Transformer(l=16, c=512)\n",
        "classifier = Classifier(l=16, c=512)"
      ],
      "metadata": {
        "id": "fTm2Bf8Ggy8J"
      },
      "execution_count": null,
      "outputs": []
    },
    {
      "cell_type": "code",
      "source": [
        "class MyNetwork(nn.Module):\n",
        "\n",
        "    def __init__(self, transformer, classifier):\n",
        "        super().__init__()\n",
        "        self.tokenizer = CNN_Tokenizer(device='cuda', L=16)\n",
        "\n",
        "        self.recurrent_tokenizer1 = Recurrent_tokenizer(device='cuda', l=16, c=512)\n",
        "        self.recurrent_tokenizer2 = Recurrent_tokenizer(device='cuda', l=16, c=512)\n",
        "        self.recurrent_tokenizer3 = Recurrent_tokenizer(device='cuda', l=16, c=512)\n",
        "        self.recurrent_tokenizer4 = Recurrent_tokenizer(device='cuda', l=16, c=512)\n",
        "\n",
        "        self.transformer = transformer\n",
        "\n",
        "        self.classifier = classifier\n",
        "\n",
        "    def forward(self, x):\n",
        "        t, features = self.tokenizer(x)\n",
        "\n",
        "        t = self.recurrent_tokenizer1(features, t)\n",
        "        t = self.recurrent_tokenizer2(features, t)\n",
        "        t = self.recurrent_tokenizer3(features, t)\n",
        "        t = self.recurrent_tokenizer4(features, t)\n",
        "\n",
        "        t = self.transformer(t)\n",
        "        op = self.classifier(t)\n",
        "\n",
        "        return op"
      ],
      "metadata": {
        "id": "uKbtC-o8g0KO"
      },
      "execution_count": null,
      "outputs": []
    },
    {
      "cell_type": "code",
      "source": [
        "model = MyNetwork(transformer, classifier).to('cuda')"
      ],
      "metadata": {
        "id": "PAM-x6YJg28m"
      },
      "execution_count": null,
      "outputs": []
    },
    {
      "cell_type": "code",
      "source": [
        "from torchsummary import summary"
      ],
      "metadata": {
        "id": "d0xXvKCJmSPq"
      },
      "execution_count": null,
      "outputs": []
    },
    {
      "cell_type": "code",
      "source": [
        "summary(model, (3, 256, 256))"
      ],
      "metadata": {
        "colab": {
          "base_uri": "https://localhost:8080/"
        },
        "id": "JaksnddImIVe",
        "outputId": "76cba5ee-ce5e-43a4-f2dd-b4714021eaf4"
      },
      "execution_count": null,
      "outputs": [
        {
          "output_type": "stream",
          "name": "stdout",
          "text": [
            "----------------------------------------------------------------\n",
            "        Layer (type)               Output Shape         Param #\n",
            "================================================================\n",
            "            Conv2d-1         [-1, 16, 254, 254]             448\n",
            "         MaxPool2d-2         [-1, 16, 127, 127]               0\n",
            "            Conv2d-3         [-1, 64, 127, 127]           1,088\n",
            "            Conv2d-4        [-1, 128, 125, 125]          73,856\n",
            "         MaxPool2d-5          [-1, 128, 62, 62]               0\n",
            "            Conv2d-6          [-1, 256, 62, 62]          33,024\n",
            "            Conv2d-7          [-1, 512, 60, 60]       1,180,160\n",
            "         MaxPool2d-8          [-1, 512, 30, 30]               0\n",
            "            Linear-9              [-1, 900, 16]           8,192\n",
            "    CNN_Tokenizer-10  [[-1, 16, 512], [-1, 512, 900]]               0\n",
            "           Linear-11              [-1, 16, 512]         262,144\n",
            "Recurrent_tokenizer-12              [-1, 16, 512]               0\n",
            "           Linear-13              [-1, 16, 512]         262,144\n",
            "Recurrent_tokenizer-14              [-1, 16, 512]               0\n",
            "           Linear-15              [-1, 16, 512]         262,144\n",
            "Recurrent_tokenizer-16              [-1, 16, 512]               0\n",
            "           Linear-17              [-1, 16, 512]         262,144\n",
            "Recurrent_tokenizer-18              [-1, 16, 512]               0\n",
            "           Linear-19              [-1, 16, 512]         262,144\n",
            "           Linear-20              [-1, 16, 512]         262,144\n",
            "           Conv1d-21              [-1, 512, 16]         262,656\n",
            "           Conv1d-22              [-1, 512, 16]         262,656\n",
            "      Transformer-23              [-1, 16, 512]               0\n",
            "        AvgPool1d-24              [-1, 512, 14]               0\n",
            "           Linear-25                  [-1, 512]       3,670,528\n",
            "           Linear-26                    [-1, 2]           1,026\n",
            "       Classifier-27                    [-1, 2]               0\n",
            "================================================================\n",
            "Total params: 7,066,498\n",
            "Trainable params: 7,066,498\n",
            "Non-trainable params: 0\n",
            "----------------------------------------------------------------\n",
            "Input size (MB): 0.75\n",
            "Forward/backward pass size (MB): 28737.20\n",
            "Params size (MB): 26.96\n",
            "Estimated Total Size (MB): 28764.91\n",
            "----------------------------------------------------------------\n"
          ]
        }
      ]
    },
    {
      "cell_type": "code",
      "source": [
        "# Train the network for classification\n",
        "def train(train_iterator, optimizer, criterion, model, EPOCHS):\n",
        "    model.train()\n",
        "    epoch_loss = []\n",
        "    x_list = []\n",
        "\n",
        "    for i in range(EPOCHS):\n",
        "        epoch_loss_accumulator = []\n",
        "        epoch_loss.append([])\n",
        "        for n, data in enumerate(train_iterator):\n",
        "            images, labels = data  # images = [batch, c, height, width]\n",
        "            # labels = [batch]\n",
        "            images = images.to('cuda')\n",
        "            labels = labels.to('cuda')\n",
        "            optimizer.zero_grad()\n",
        "            output = model(images)  # output = [batch, classes]\n",
        "            loss = criterion(output, labels)\n",
        "            loss.backward()\n",
        "            optimizer.step()\n",
        "            epoch_loss_accumulator.append(loss.item())\n",
        "        epoch_loss[-1].append(sum(epoch_loss_accumulator) / len(epoch_loss_accumulator))\n",
        "        # if i%10==0:\n",
        "        print(\"Epoch : {} | Loss : {}\".format(i, epoch_loss[-1]))\n",
        "    return epoch_loss"
      ],
      "metadata": {
        "id": "6TznmVoxhfxo"
      },
      "execution_count": null,
      "outputs": []
    },
    {
      "cell_type": "code",
      "source": [
        "optimizer_cifar = optim.Adam(model.parameters(), lr=0.001)\n",
        "criterion = nn.CrossEntropyLoss()"
      ],
      "metadata": {
        "id": "GQQfaVhhhiOf"
      },
      "execution_count": null,
      "outputs": []
    },
    {
      "cell_type": "code",
      "source": [
        "loss = train(train_loader, optimizer_cifar, criterion, model, 50)"
      ],
      "metadata": {
        "id": "MR9_hurDhm3b",
        "colab": {
          "base_uri": "https://localhost:8080/"
        },
        "outputId": "74984808-1af3-422a-cc36-98153f856000"
      },
      "execution_count": null,
      "outputs": [
        {
          "output_type": "stream",
          "name": "stdout",
          "text": [
            "Epoch : 0 | Loss : [0.5494542902913587]\n",
            "Epoch : 1 | Loss : [0.4324277772985656]\n",
            "Epoch : 2 | Loss : [0.42048032016589726]\n",
            "Epoch : 3 | Loss : [0.37879548196134893]\n",
            "Epoch : 4 | Loss : [0.38392596820305136]\n",
            "Epoch : 5 | Loss : [0.37022237222770166]\n",
            "Epoch : 6 | Loss : [0.36566125627221735]\n",
            "Epoch : 7 | Loss : [0.3494758451807088]\n",
            "Epoch : 8 | Loss : [0.3469864643853286]\n",
            "Epoch : 9 | Loss : [0.3202925093215087]\n",
            "Epoch : 10 | Loss : [0.31592486028013556]\n",
            "Epoch : 11 | Loss : [0.32376124530002987]\n",
            "Epoch : 12 | Loss : [0.303817057917858]\n",
            "Epoch : 13 | Loss : [0.30805267804655534]\n",
            "Epoch : 14 | Loss : [0.335636630654335]\n",
            "Epoch : 15 | Loss : [0.32850223882444973]\n",
            "Epoch : 16 | Loss : [0.3064629923680733]\n",
            "Epoch : 17 | Loss : [0.3042993802448799]\n",
            "Epoch : 18 | Loss : [0.3181104397979276]\n",
            "Epoch : 19 | Loss : [0.31764088211388425]\n",
            "Epoch : 20 | Loss : [0.3090329242163691]\n",
            "Epoch : 21 | Loss : [0.3201884473192281]\n",
            "Epoch : 22 | Loss : [0.29508413323040666]\n",
            "Epoch : 23 | Loss : [0.28945551247432316]\n",
            "Epoch : 24 | Loss : [0.28338934994977094]\n",
            "Epoch : 25 | Loss : [0.3014997038347968]\n",
            "Epoch : 26 | Loss : [0.29065163536318417]\n",
            "Epoch : 27 | Loss : [0.2770250465335517]\n",
            "Epoch : 28 | Loss : [0.2820157578279232]\n",
            "Epoch : 29 | Loss : [0.2852575059594779]\n",
            "Epoch : 30 | Loss : [0.2803159088924013]\n",
            "Epoch : 31 | Loss : [0.2816316839949838]\n",
            "Epoch : 32 | Loss : [0.2724077521727003]\n",
            "Epoch : 33 | Loss : [0.2663941051939438]\n",
            "Epoch : 34 | Loss : [0.2741583416174198]\n",
            "Epoch : 35 | Loss : [0.2732861216725974]\n",
            "Epoch : 36 | Loss : [0.2695763696884287]\n",
            "Epoch : 37 | Loss : [0.280710628834264]\n",
            "Epoch : 38 | Loss : [0.2666269926161602]\n",
            "Epoch : 39 | Loss : [0.2749302536249161]\n",
            "Epoch : 40 | Loss : [0.2587506914960927]\n",
            "Epoch : 41 | Loss : [0.2596688424718791]\n",
            "Epoch : 42 | Loss : [0.27103324080335683]\n",
            "Epoch : 43 | Loss : [0.2580955737623675]\n",
            "Epoch : 44 | Loss : [0.24489715130164705]\n",
            "Epoch : 45 | Loss : [0.2501017327966361]\n",
            "Epoch : 46 | Loss : [0.2539424878256074]\n",
            "Epoch : 47 | Loss : [0.2407148796422728]\n",
            "Epoch : 48 | Loss : [0.23880045167331038]\n",
            "Epoch : 49 | Loss : [0.23917204732524938]\n"
          ]
        }
      ]
    },
    {
      "cell_type": "code",
      "source": [
        "plt.plot(loss)\n",
        "plt.xlabel(\"Epoch\")\n",
        "plt.ylabel(\"Loss\")"
      ],
      "metadata": {
        "colab": {
          "base_uri": "https://localhost:8080/",
          "height": 467
        },
        "id": "ODVNp6JPQmPS",
        "outputId": "ce9bb256-c07e-4879-ca5c-c421af09ea5b"
      },
      "execution_count": null,
      "outputs": [
        {
          "output_type": "execute_result",
          "data": {
            "text/plain": [
              "Text(0, 0.5, 'Loss')"
            ]
          },
          "metadata": {},
          "execution_count": 24
        },
        {
          "output_type": "display_data",
          "data": {
            "text/plain": [
              "<Figure size 640x480 with 1 Axes>"
            ],
            "image/png": "[encoded data removed]"
          },
          "metadata": {}
        }
      ]
    },
    {
      "cell_type": "code",
      "source": [
        "y_pred = []\n",
        "y_true = []\n",
        "def accuracy(model, testloader, dataset_name):\n",
        "    correct = 0\n",
        "    total = 0\n",
        "    with torch.no_grad():\n",
        "        for data in testloader:\n",
        "            images, labels = data\n",
        "            images = images.to('cuda')\n",
        "            labels = labels.to('cuda')\n",
        "            outputs = model(images)\n",
        "            _, predicted = torch.max(outputs.data, 1)\n",
        "            y_pred.append(predicted.to('cpu'))\n",
        "            y_true.append(labels.to('cpu'))\n",
        "            total += labels.size(0)\n",
        "            correct += (predicted == labels).sum().item()\n",
        "    print(f'Accuracy of the network for {dataset_name} is: %d %%' % (\n",
        "            100 * correct / total))"
      ],
      "metadata": {
        "id": "z927QNm2ztYF"
      },
      "execution_count": null,
      "outputs": []
    },
    {
      "cell_type": "code",
      "source": [
        "accuracy(model, test_loader, 'Model ViT')"
      ],
      "metadata": {
        "colab": {
          "base_uri": "https://localhost:8080/"
        },
        "id": "c3cvTK9fzwj1",
        "outputId": "9311b9f9-9cdc-469b-a493-8ae15235d2f1"
      },
      "execution_count": null,
      "outputs": [
        {
          "output_type": "stream",
          "name": "stdout",
          "text": [
            "Accuracy of the network for Model ViT is: 87 %\n"
          ]
        }
      ]
    },
    {
      "cell_type": "code",
      "source": [
        "y_pred_list = []\n",
        "y_true_list = []\n",
        "for i in [a.squeeze().tolist() for a in y_pred]:\n",
        "  for j in i:\n",
        "    y_pred_list.append(j)\n",
        "\n",
        "for i in [a.squeeze().tolist() for a in y_true]:\n",
        "  for j in i:\n",
        "    y_true_list.append(j)"
      ],
      "metadata": {
        "id": "qZ9rF1eAQlKS"
      },
      "execution_count": null,
      "outputs": []
    },
    {
      "cell_type": "code",
      "source": [
        "from sklearn import metrics\n",
        "import seaborn as sns"
      ],
      "metadata": {
        "id": "UQEsvVbBl6lK"
      },
      "execution_count": null,
      "outputs": []
    },
    {
      "cell_type": "code",
      "source": [
        "print(\"Overall accuracy: \",round(metrics.accuracy_score(y_true_list, y_pred_list),2))\n",
        "print(\"Overall precision: \",round(metrics.precision_score(y_true_list, y_pred_list),2))\n",
        "print(\"Overall recall: \",round(metrics.recall_score(y_true_list, y_pred_list),2))"
      ],
      "metadata": {
        "id": "3pPKSeUOmlUO",
        "colab": {
          "base_uri": "https://localhost:8080/"
        },
        "outputId": "335989c2-a202-458d-d5b6-ac4fca6018d4"
      },
      "execution_count": null,
      "outputs": [
        {
          "output_type": "stream",
          "name": "stdout",
          "text": [
            "Overall accuracy:  0.87\n",
            "Overall precision:  0.88\n",
            "Overall recall:  0.85\n"
          ]
        }
      ]
    },
    {
      "cell_type": "code",
      "source": [
        "cf_matrix = metrics.confusion_matrix(y_true_list, y_pred_list)\n",
        "group_names = ['True Neg','False Pos','False Neg','True Pos']\n",
        "group_counts = [\"{0:0.0f}\".format(value) for value in cf_matrix.flatten()]\n",
        "group_percentages = [\"{0:.2%}\".format(value) for value in cf_matrix.flatten()/np.sum(cf_matrix)]\n",
        "labels = [f\"{v1}\\n{v2}\\n{v3}\" for v1, v2, v3 in\n",
        "          zip(group_names,group_counts,group_percentages)]\n",
        "labels = np.asarray(labels).reshape(2,2)\n",
        "sns.heatmap(cf_matrix, annot=labels, fmt='', cmap='Blues')"
      ],
      "metadata": {
        "colab": {
          "base_uri": "https://localhost:8080/",
          "height": 448
        },
        "id": "9VYxk60pnCZJ",
        "outputId": "ccf8fa71-43f4-429f-f410-2a5e612a1e95"
      },
      "execution_count": null,
      "outputs": [
        {
          "output_type": "execute_result",
          "data": {
            "text/plain": [
              "<Axes: >"
            ]
          },
          "metadata": {},
          "execution_count": 30
        },
        {
          "output_type": "display_data",
          "data": {
            "text/plain": [
              "<Figure size 640x480 with 2 Axes>"
            ],
            "image/png": "[encoded data removed]"
          },
          "metadata": {}
        }
      ]
    },
    {
      "cell_type": "code",
      "source": [
        "import pandas as pd\n",
        "cm = metrics.confusion_matrix(y_true_list, y_pred_list)\n",
        "result_cls0 = []\n",
        "result_cls1 = []\n",
        "precision, recall, fscore, support = metrics.precision_recall_fscore_support(y_true_list, y_pred_list)\n",
        "result_cls0.append(round(cm[0][0] / (cm[0][0] + cm[0][1]), 2))\n",
        "result_cls1.append(round(cm[1][1] / (cm[1][0] + cm[1][1]), 2))\n",
        "result_cls0.append(round(cm[0][1] / (cm[0][0] + cm[0][1]), 2))\n",
        "result_cls1.append(round(cm[1][0] / (cm[1][0] + cm[1][1]), 2))\n",
        "result_cls0.append(round(precision[0], 2))\n",
        "result_cls1.append(round(precision[1], 2))\n",
        "result_cls0.append(round(recall[0], 2))\n",
        "result_cls1.append(round(recall[1], 2))\n",
        "result_cls0.append(round(fscore[0], 2))\n",
        "result_cls1.append(round(fscore[1], 2))\n",
        "roc0 = metrics.roc_auc_score(y_true_list, y_pred_list, labels=0)\n",
        "roc1 = metrics.roc_auc_score(y_true_list, y_pred_list, labels=1)\n",
        "result_cls0.append(round(roc0, 2))\n",
        "result_cls1.append(round(roc1, 2))\n",
        "mcc = metrics.matthews_corrcoef(y_true_list, y_pred_list)\n",
        "result_cls0.append(round(mcc, 2))\n",
        "result_cls1.append(round(mcc, 2))\n",
        "\n",
        "df = pd.DataFrame([result_cls0, result_cls1],\n",
        "  columns=['TPR', 'FPR', 'Precision', 'Recall', 'F-Measure', 'ROC', 'MCC'])"
      ],
      "metadata": {
        "id": "toUhFBc0n-nY"
      },
      "execution_count": null,
      "outputs": []
    },
    {
      "cell_type": "code",
      "source": [
        "print(df)"
      ],
      "metadata": {
        "id": "o2_6Q_J9oaik",
        "colab": {
          "base_uri": "https://localhost:8080/"
        },
        "outputId": "a291fb8a-56fb-4e29-ae5a-a7dc1809aa73"
      },
      "execution_count": null,
      "outputs": [
        {
          "output_type": "stream",
          "name": "stdout",
          "text": [
            "    TPR   FPR  Precision  Recall  F-Measure   ROC   MCC\n",
            "0  0.90  0.10       0.87    0.90       0.89  0.87  0.75\n",
            "1  0.85  0.15       0.88    0.85       0.86  0.87  0.75\n"
          ]
        }
      ]
    }
  ]
}